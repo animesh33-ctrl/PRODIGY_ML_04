{
 "cells": [
  {
   "cell_type": "code",
   "execution_count": 1,
   "id": "37c67f7c",
   "metadata": {},
   "outputs": [],
   "source": [
    "import os, glob, time, math, random\n",
    "from pathlib import Path\n",
    "import numpy as np\n",
    "import torch\n",
    "import torch.nn as nn\n",
    "import torch.nn.functional as F\n",
    "from torch.utils.data import Dataset, DataLoader\n",
    "from torchvision import transforms, models\n",
    "from PIL import Image\n",
    "from sklearn.metrics import classification_report, confusion_matrix\n",
    "import matplotlib.pyplot as plt\n",
    "from tqdm import tqdm\n"
   ]
  },
  {
   "cell_type": "code",
   "execution_count": 2,
   "id": "8a1e2cb0",
   "metadata": {},
   "outputs": [],
   "source": [
    "DATA_DIR = r\"C:\\Programming\\Prodigy Infotech\\Data\\04_leapGestRecog\"   # <-- change to your path (folder with 00..09)\n",
    "SAVE_DIR = r\"C:\\Programming\\Prodigy Infotech\\PRODIGY_ML_04\"\n",
    "os.makedirs(SAVE_DIR, exist_ok=True)"
   ]
  },
  {
   "cell_type": "code",
   "execution_count": null,
   "id": "65b36aad",
   "metadata": {},
   "outputs": [],
   "source": [
    "SEED = 42\n",
    "BATCH_SIZE = 32\n",
    "NUM_WORKERS = 6\n",
    "EPOCHS = 25\n",
    "LR = 3e-4\n",
    "USE_RESNET18 = False  # True: use ResNet18, False: use SmallCNN   \n",
    "IMG_SIZE = 96         \n",
    "PATIENCE = 6          \n",
    "LABEL_NAMES = [str(i) for i in range(10)] "
   ]
  },
  {
   "cell_type": "code",
   "execution_count": 4,
   "id": "877beca7",
   "metadata": {},
   "outputs": [],
   "source": [
    "torch.manual_seed(SEED); np.random.seed(SEED); random.seed(SEED)"
   ]
  },
  {
   "cell_type": "code",
   "execution_count": 5,
   "id": "1eefd755",
   "metadata": {},
   "outputs": [
    {
     "name": "stdout",
     "output_type": "stream",
     "text": [
      "Train Transforms : Compose(\n",
      "    Resize(size=(96, 96), interpolation=bilinear, max_size=None, antialias=True)\n",
      "    RandomAffine(degrees=[-12.0, 12.0], translate=(0.05, 0.05), scale=(0.9, 1.1), shear=[-8.0, 8.0])\n",
      "    ToTensor()\n",
      "    Normalize(mean=[0.5], std=[0.5])\n",
      "    RandomErasing(p=0.25, scale=(0.01, 0.05), ratio=(0.3, 3.3), value=0, inplace=False)\n",
      ")\n",
      "Evaluation Transforms : Compose(\n",
      "    Resize(size=(96, 96), interpolation=bilinear, max_size=None, antialias=True)\n",
      "    ToTensor()\n",
      "    Normalize(mean=[0.5], std=[0.5])\n",
      ")\n"
     ]
    }
   ],
   "source": [
    "train_tfms = transforms.Compose([\n",
    "    transforms.Resize((IMG_SIZE, IMG_SIZE)),\n",
    "    transforms.RandomAffine(degrees=12, translate=(0.05, 0.05), scale=(0.9, 1.1), shear=8),\n",
    "    transforms.ToTensor(),\n",
    "    transforms.Normalize(mean=[0.5], std=[0.5]),\n",
    "    transforms.RandomErasing(p=0.25, scale=(0.01, 0.05), ratio=(0.3, 3.3))\n",
    "])\n",
    "\n",
    "\n",
    "eval_tfms = transforms.Compose([\n",
    "    transforms.Resize((IMG_SIZE, IMG_SIZE)),\n",
    "    transforms.ToTensor(),\n",
    "    transforms.Normalize(mean=[0.5], std=[0.5]),\n",
    "])\n",
    "\n",
    "print(f\"Train Transforms : {train_tfms}\")\n",
    "print(f\"Evaluation Transforms : {eval_tfms}\")"
   ]
  },
  {
   "cell_type": "code",
   "execution_count": 6,
   "id": "61586f66",
   "metadata": {},
   "outputs": [],
   "source": [
    "train_subjects = list(range(0, 8))  # 00..07\n",
    "val_subjects   = [8]                # 08\n",
    "test_subjects  = [9] "
   ]
  },
  {
   "cell_type": "code",
   "execution_count": 7,
   "id": "a4ba8f9b",
   "metadata": {},
   "outputs": [],
   "source": [
    "class LeapGestDataset(Dataset):\n",
    "    def __init__(self, data_dir, subjects, transform=None):\n",
    "        self.items = []\n",
    "        self.transform = transform\n",
    "        data_dir = Path(data_dir)\n",
    "\n",
    "        # First, discover class names from subject \"00\"\n",
    "        example_subj = data_dir / f\"{subjects[0]:02d}\"\n",
    "        gesture_dirs = sorted([d for d in example_subj.iterdir() if d.is_dir()])\n",
    "        self.class_names = [g.name for g in gesture_dirs]\n",
    "        self.class_to_idx = {name: idx for idx, name in enumerate(self.class_names)}\n",
    "\n",
    "        # Now collect items\n",
    "        for s in subjects:\n",
    "            subj_dir = data_dir / f\"{s:02d}\"\n",
    "            for cls_dir in sorted(subj_dir.iterdir()):\n",
    "                if not cls_dir.is_dir():\n",
    "                    continue\n",
    "                label = self.class_to_idx[cls_dir.name]\n",
    "                for img_path in cls_dir.glob(\"*.png\"):\n",
    "                    self.items.append((img_path, label))\n",
    "\n",
    "        random.shuffle(self.items)\n",
    "\n",
    "    def __len__(self):\n",
    "        return len(self.items)\n",
    "\n",
    "    def __getitem__(self, idx):\n",
    "        path, label = self.items[idx]\n",
    "        img = Image.open(path).convert(\"L\")\n",
    "        if self.transform:\n",
    "            img = self.transform(img)\n",
    "        if img.ndim == 2:\n",
    "            img = img.unsqueeze(0)\n",
    "        return img, label\n"
   ]
  },
  {
   "cell_type": "code",
   "execution_count": 8,
   "id": "d277af6b",
   "metadata": {},
   "outputs": [],
   "source": [
    "train_ds = LeapGestDataset(DATA_DIR, train_subjects, transform=train_tfms)\n",
    "val_ds   = LeapGestDataset(DATA_DIR, val_subjects,   transform=eval_tfms)\n",
    "test_ds  = LeapGestDataset(DATA_DIR, test_subjects,  transform=eval_tfms)"
   ]
  },
  {
   "cell_type": "code",
   "execution_count": 9,
   "id": "3bc7dad3",
   "metadata": {},
   "outputs": [
    {
     "name": "stdout",
     "output_type": "stream",
     "text": [
      "Train images: 16000\n",
      "Val images: 2000\n",
      "Test images: 2000\n"
     ]
    }
   ],
   "source": [
    "print(f\"Train images: {len(train_ds)}\")\n",
    "print(f\"Val images: {len(val_ds)}\")\n",
    "print(f\"Test images: {len(test_ds)}\")"
   ]
  },
  {
   "cell_type": "code",
   "execution_count": 10,
   "id": "37f3ac6e",
   "metadata": {},
   "outputs": [],
   "source": [
    "train_loader = DataLoader(train_ds, batch_size=BATCH_SIZE, shuffle=True)#,num_workers=NUM_WORKERS, pin_memory=True,prefetch_factor=2,persistent_workers=True)\n",
    "val_loader   = DataLoader(val_ds, batch_size=BATCH_SIZE, shuffle=False)#,num_workers=NUM_WORKERS, pin_memory=True,prefetch_factor=2,persistent_workers=True)\n",
    "test_loader  = DataLoader(test_ds, batch_size=BATCH_SIZE, shuffle=False)#,num_workers=NUM_WORKERS, pin_memory=True,prefetch_factor=2,persistent_workers=True)"
   ]
  },
  {
   "cell_type": "code",
   "execution_count": 11,
   "id": "751371a7",
   "metadata": {},
   "outputs": [
    {
     "name": "stdout",
     "output_type": "stream",
     "text": [
      "torch.Size([32, 1, 96, 96]) torch.Size([32])\n"
     ]
    }
   ],
   "source": [
    "for x,y in train_loader:\n",
    "    print(x.shape,y.shape)\n",
    "    break"
   ]
  },
  {
   "cell_type": "code",
   "execution_count": 12,
   "id": "4d888d0e",
   "metadata": {},
   "outputs": [],
   "source": [
    "def resnet18_1ch(num_classes=10):\n",
    "    m = models.resnet18(weights=None)\n",
    "    m.conv1 = nn.Conv2d(1, 64, kernel_size=7, stride=2, padding=3, bias=False)\n",
    "    m.fc = nn.Linear(m.fc.in_features, num_classes)\n",
    "    return m"
   ]
  },
  {
   "cell_type": "code",
   "execution_count": 13,
   "id": "2ee9de4e",
   "metadata": {},
   "outputs": [],
   "source": [
    "class SmallCNN(nn.Module):\n",
    "    def __init__(self, num_classes=10):\n",
    "        super().__init__()\n",
    "        self.features = nn.Sequential(\n",
    "            nn.Conv2d(1, 32, 3, padding=1), nn.BatchNorm2d(32), nn.ReLU(),\n",
    "            nn.Conv2d(32, 32, 3, padding=1), nn.BatchNorm2d(32), nn.ReLU(),\n",
    "            nn.MaxPool2d(2),\n",
    "\n",
    "            nn.Conv2d(32, 64, 3, padding=1), nn.BatchNorm2d(64), nn.ReLU(),\n",
    "            nn.Conv2d(64, 64, 3, padding=1), nn.BatchNorm2d(64), nn.ReLU(),\n",
    "            nn.MaxPool2d(2),\n",
    "\n",
    "            nn.Conv2d(64, 128, 3, padding=1), nn.BatchNorm2d(128), nn.ReLU(),\n",
    "            nn.MaxPool2d(2),\n",
    "\n",
    "            nn.Conv2d(128, 256, 3, padding=1), nn.BatchNorm2d(256), nn.ReLU(),\n",
    "            nn.AdaptiveAvgPool2d(1),\n",
    "        )\n",
    "        self.classifier = nn.Sequential(\n",
    "            nn.Flatten(),\n",
    "            nn.Dropout(0.4),\n",
    "            nn.Linear(256, num_classes)\n",
    "        )\n",
    "\n",
    "    def forward(self, x):\n",
    "        x = self.features(x)\n",
    "        return self.classifier(x)"
   ]
  },
  {
   "cell_type": "code",
   "execution_count": 14,
   "id": "9bf9b410",
   "metadata": {},
   "outputs": [],
   "source": [
    "device = torch.device(\"cuda\" if torch.cuda.is_available() else \"cpu\")\n",
    "model = (resnet18_1ch(10) if USE_RESNET18 else SmallCNN(10)).to(device)"
   ]
  },
  {
   "cell_type": "code",
   "execution_count": 15,
   "id": "4c27ff0d",
   "metadata": {},
   "outputs": [],
   "source": [
    "def run_epoch(model, loader, optimizer=None, scaler=None, device=\"cuda\",epoch=0):\n",
    "    is_train = optimizer is not None\n",
    "    model.train(is_train)\n",
    "    total, correct, loss_sum = 0, 0, 0.0\n",
    "    criterion = nn.CrossEntropyLoss()\n",
    "    # Wrap loader with tqdm\n",
    "    loop = tqdm(loader, desc=f\"EPOCH : {epoch}/{EPOCHS} Training\" if is_train else \"Validation\", leave=False)\n",
    "    for imgs, labels in loop:\n",
    "        imgs = imgs.to(device, non_blocking=True)\n",
    "        labels = labels.to(device, non_blocking=True)\n",
    "        if is_train:\n",
    "            optimizer.zero_grad(set_to_none=True)\n",
    "            with torch.autocast(device_type=device.type, dtype=torch.float16, enabled=True):\n",
    "                logits = model(imgs)\n",
    "                loss = criterion(logits, labels)\n",
    "            scaler.scale(loss).backward()\n",
    "            scaler.step(optimizer)\n",
    "            scaler.update()\n",
    "        else:\n",
    "            with torch.no_grad():\n",
    "                logits = model(imgs)\n",
    "                loss = criterion(logits, labels)\n",
    "        preds = logits.argmax(1)\n",
    "        correct += (preds == labels).sum().item()\n",
    "        total += labels.size(0)\n",
    "        loss_sum += loss.item() * labels.size(0)\n",
    "        # Update tqdm bar with live stats\n",
    "        loop.set_postfix({\n",
    "            \"loss\": f\"{loss_sum/total:.4f}\",\n",
    "            \"acc\": f\"{correct/total:.4f}\"\n",
    "        })\n",
    "    return loss_sum/total, correct/total"
   ]
  },
  {
   "cell_type": "code",
   "execution_count": 16,
   "id": "c9d1bfcc",
   "metadata": {},
   "outputs": [],
   "source": [
    "optimizer = torch.optim.AdamW(model.parameters(), lr=LR, weight_decay=1e-4)\n",
    "scheduler = torch.optim.lr_scheduler.CosineAnnealingLR(optimizer, T_max=EPOCHS)\n",
    "scaler = torch.amp.GradScaler(enabled=(device.type==\"cuda\"))"
   ]
  },
  {
   "cell_type": "code",
   "execution_count": 17,
   "id": "17c9f023",
   "metadata": {},
   "outputs": [],
   "source": [
    "best_val_acc = 0.0\n",
    "epochs_no_improve = 0\n",
    "best_path = os.path.join(SAVE_DIR, f\"best_{'resnet18' if USE_RESNET18 else 'smallcnn'}_{IMG_SIZE}.pth\")"
   ]
  },
  {
   "cell_type": "code",
   "execution_count": 18,
   "id": "6ce5a189",
   "metadata": {},
   "outputs": [
    {
     "name": "stdout",
     "output_type": "stream",
     "text": [
      "Train Length: 16000 | Val Length: 2000 | Test Length: 2000\n"
     ]
    }
   ],
   "source": [
    "print(f\"Train Length: {len(train_ds)} | Val Length: {len(val_ds)} | Test Length: {len(test_ds)}\")"
   ]
  },
  {
   "cell_type": "code",
   "execution_count": 19,
   "id": "a13f0b18",
   "metadata": {},
   "outputs": [
    {
     "name": "stderr",
     "output_type": "stream",
     "text": [
      "                                                                                                 \r"
     ]
    },
    {
     "name": "stdout",
     "output_type": "stream",
     "text": [
      "[01/25] train_loss=0.2395 acc=92.54% | val_loss=0.8729 acc=77.90%\n"
     ]
    },
    {
     "name": "stderr",
     "output_type": "stream",
     "text": [
      "                                                                                                 \r"
     ]
    },
    {
     "name": "stdout",
     "output_type": "stream",
     "text": [
      "[02/25] train_loss=0.0611 acc=98.11% | val_loss=1.0869 acc=76.75%\n"
     ]
    },
    {
     "name": "stderr",
     "output_type": "stream",
     "text": [
      "                                                                                                 \r"
     ]
    },
    {
     "name": "stdout",
     "output_type": "stream",
     "text": [
      "[03/25] train_loss=0.0469 acc=98.57% | val_loss=0.7680 acc=74.20%\n"
     ]
    },
    {
     "name": "stderr",
     "output_type": "stream",
     "text": [
      "                                                                                                 \r"
     ]
    },
    {
     "name": "stdout",
     "output_type": "stream",
     "text": [
      "[04/25] train_loss=0.0376 acc=98.89% | val_loss=0.4525 acc=83.00%\n"
     ]
    },
    {
     "name": "stderr",
     "output_type": "stream",
     "text": [
      "                                                                                                 \r"
     ]
    },
    {
     "name": "stdout",
     "output_type": "stream",
     "text": [
      "[05/25] train_loss=0.0343 acc=99.04% | val_loss=0.7530 acc=83.05%\n"
     ]
    },
    {
     "name": "stderr",
     "output_type": "stream",
     "text": [
      "                                                                                                 \r"
     ]
    },
    {
     "name": "stdout",
     "output_type": "stream",
     "text": [
      "[06/25] train_loss=0.0314 acc=98.97% | val_loss=0.4112 acc=83.40%\n"
     ]
    },
    {
     "name": "stderr",
     "output_type": "stream",
     "text": [
      "                                                                                                 \r"
     ]
    },
    {
     "name": "stdout",
     "output_type": "stream",
     "text": [
      "[07/25] train_loss=0.0221 acc=99.35% | val_loss=0.4245 acc=85.45%\n"
     ]
    },
    {
     "name": "stderr",
     "output_type": "stream",
     "text": [
      "                                                                                                 \r"
     ]
    },
    {
     "name": "stdout",
     "output_type": "stream",
     "text": [
      "[08/25] train_loss=0.0202 acc=99.40% | val_loss=0.3599 acc=89.45%\n"
     ]
    },
    {
     "name": "stderr",
     "output_type": "stream",
     "text": [
      "                                                                                                 \r"
     ]
    },
    {
     "name": "stdout",
     "output_type": "stream",
     "text": [
      "[09/25] train_loss=0.0268 acc=99.19% | val_loss=0.2396 acc=92.60%\n"
     ]
    },
    {
     "name": "stderr",
     "output_type": "stream",
     "text": [
      "                                                                                                  \r"
     ]
    },
    {
     "name": "stdout",
     "output_type": "stream",
     "text": [
      "[10/25] train_loss=0.0157 acc=99.50% | val_loss=0.8837 acc=74.95%\n"
     ]
    },
    {
     "name": "stderr",
     "output_type": "stream",
     "text": [
      "                                                                                                  \r"
     ]
    },
    {
     "name": "stdout",
     "output_type": "stream",
     "text": [
      "[11/25] train_loss=0.0130 acc=99.58% | val_loss=0.3272 acc=90.75%\n"
     ]
    },
    {
     "name": "stderr",
     "output_type": "stream",
     "text": [
      "                                                                                                  \r"
     ]
    },
    {
     "name": "stdout",
     "output_type": "stream",
     "text": [
      "[12/25] train_loss=0.0127 acc=99.59% | val_loss=0.3201 acc=92.90%\n"
     ]
    },
    {
     "name": "stderr",
     "output_type": "stream",
     "text": [
      "                                                                                                  \r"
     ]
    },
    {
     "name": "stdout",
     "output_type": "stream",
     "text": [
      "[13/25] train_loss=0.0129 acc=99.60% | val_loss=0.5959 acc=86.55%\n"
     ]
    },
    {
     "name": "stderr",
     "output_type": "stream",
     "text": [
      "                                                                                                  \r"
     ]
    },
    {
     "name": "stdout",
     "output_type": "stream",
     "text": [
      "[14/25] train_loss=0.0094 acc=99.69% | val_loss=0.3106 acc=93.20%\n"
     ]
    },
    {
     "name": "stderr",
     "output_type": "stream",
     "text": [
      "                                                                                                  \r"
     ]
    },
    {
     "name": "stdout",
     "output_type": "stream",
     "text": [
      "[15/25] train_loss=0.0084 acc=99.76% | val_loss=0.2742 acc=93.20%\n"
     ]
    },
    {
     "name": "stderr",
     "output_type": "stream",
     "text": [
      "                                                                                                  \r"
     ]
    },
    {
     "name": "stdout",
     "output_type": "stream",
     "text": [
      "[16/25] train_loss=0.0063 acc=99.78% | val_loss=0.3117 acc=91.95%\n"
     ]
    },
    {
     "name": "stderr",
     "output_type": "stream",
     "text": [
      "                                                                                                  \r"
     ]
    },
    {
     "name": "stdout",
     "output_type": "stream",
     "text": [
      "[17/25] train_loss=0.0074 acc=99.74% | val_loss=0.5450 acc=84.85%\n"
     ]
    },
    {
     "name": "stderr",
     "output_type": "stream",
     "text": [
      "                                                                                                  \r"
     ]
    },
    {
     "name": "stdout",
     "output_type": "stream",
     "text": [
      "[18/25] train_loss=0.0067 acc=99.78% | val_loss=0.2782 acc=92.30%\n"
     ]
    },
    {
     "name": "stderr",
     "output_type": "stream",
     "text": [
      "                                                                                                  \r"
     ]
    },
    {
     "name": "stdout",
     "output_type": "stream",
     "text": [
      "[19/25] train_loss=0.0068 acc=99.78% | val_loss=0.3530 acc=91.80%\n"
     ]
    },
    {
     "name": "stderr",
     "output_type": "stream",
     "text": [
      "                                                                                                  "
     ]
    },
    {
     "name": "stdout",
     "output_type": "stream",
     "text": [
      "[20/25] train_loss=0.0042 acc=99.86% | val_loss=0.3217 acc=92.80%\n",
      "Early stopping.\n",
      "Best val acc: 93.20% | ckpt: C:\\Programming\\Prodigy Infotech\\PRODIGY_ML_04\\best_resnet18_96.pth\n"
     ]
    },
    {
     "name": "stderr",
     "output_type": "stream",
     "text": [
      "\r"
     ]
    }
   ],
   "source": [
    "for epoch in range(1, EPOCHS+1):\n",
    "    tr_loss, tr_acc = run_epoch(model, train_loader, optimizer, scaler, device=device, epoch=epoch)\n",
    "    val_loss, val_acc = run_epoch(model, val_loader, device=device, epoch=epoch)\n",
    "    scheduler.step()\n",
    "    print(f\"[{epoch:02d}/{EPOCHS}] \"\n",
    "          f\"train_loss={tr_loss:.4f} acc={tr_acc*100:.2f}% | \"\n",
    "          f\"val_loss={val_loss:.4f} acc={val_acc*100:.2f}%\")\n",
    "    if val_acc > best_val_acc:\n",
    "        best_val_acc = val_acc\n",
    "        epochs_no_improve = 0\n",
    "        torch.save({\"model\": model.state_dict(),\"optmizer\":optimizer.state_dict(),\"scheduler\":scheduler.state_dict(),\"scaler\":scaler,\"epoch\":EPOCHS}, best_path)\n",
    "    else:\n",
    "        epochs_no_improve += 1\n",
    "        if epochs_no_improve >= PATIENCE:\n",
    "            print(\"Early stopping.\")\n",
    "            break\n",
    "print(f\"Best val acc: {best_val_acc*100:.2f}% | ckpt: {best_path}\")"
   ]
  },
  {
   "cell_type": "code",
   "execution_count": 20,
   "id": "392b2de9",
   "metadata": {},
   "outputs": [
    {
     "data": {
      "text/plain": [
       "<All keys matched successfully>"
      ]
     },
     "execution_count": 20,
     "metadata": {},
     "output_type": "execute_result"
    }
   ],
   "source": [
    "# Evaluation\n",
    "ckpt = torch.load(best_path, map_location=device,weights_only = False)\n",
    "model.load_state_dict(ckpt[\"model\"])"
   ]
  },
  {
   "cell_type": "code",
   "execution_count": 21,
   "id": "e1f6829b",
   "metadata": {},
   "outputs": [],
   "source": [
    "model.eval()\n",
    "all_labels, all_preds = [], []\n",
    "with torch.inference_mode():\n",
    "    for imgs, labels in test_loader:\n",
    "        imgs = imgs.to(device)\n",
    "        logits = model(imgs)\n",
    "        preds = logits.argmax(1).cpu().numpy().tolist()\n",
    "        all_preds += preds\n",
    "        all_labels += labels.numpy().tolist()"
   ]
  },
  {
   "cell_type": "code",
   "execution_count": 22,
   "id": "49c76fec",
   "metadata": {},
   "outputs": [
    {
     "name": "stdout",
     "output_type": "stream",
     "text": [
      "              precision    recall  f1-score   support\n",
      "\n",
      "           0     1.0000    1.0000    1.0000       200\n",
      "           1     1.0000    1.0000    1.0000       200\n",
      "           2     1.0000    0.6700    0.8024       200\n",
      "           3     0.7519    1.0000    0.8584       200\n",
      "           4     1.0000    1.0000    1.0000       200\n",
      "           5     1.0000    1.0000    1.0000       200\n",
      "           6     1.0000    1.0000    1.0000       200\n",
      "           7     1.0000    1.0000    1.0000       200\n",
      "           8     1.0000    1.0000    1.0000       200\n",
      "           9     1.0000    1.0000    1.0000       200\n",
      "\n",
      "    accuracy                         0.9670      2000\n",
      "   macro avg     0.9752    0.9670    0.9661      2000\n",
      "weighted avg     0.9752    0.9670    0.9661      2000\n",
      "\n"
     ]
    }
   ],
   "source": [
    "print(classification_report(all_labels, all_preds, target_names=LABEL_NAMES, digits=4))"
   ]
  },
  {
   "cell_type": "code",
   "execution_count": 23,
   "id": "d517b4c8",
   "metadata": {},
   "outputs": [
    {
     "data": {
      "image/png": "[encoded data removed]",
      "text/plain": [
       "<Figure size 600x500 with 2 Axes>"
      ]
     },
     "metadata": {},
     "output_type": "display_data"
    }
   ],
   "source": [
    "cm = confusion_matrix(all_labels, all_preds)\n",
    "plt.figure(figsize=(6,5))\n",
    "plt.imshow(cm, interpolation='nearest')\n",
    "plt.title(\"Confusion Matrix\")\n",
    "plt.colorbar()\n",
    "plt.xticks(range(10), LABEL_NAMES, rotation=45)\n",
    "plt.yticks(range(10), LABEL_NAMES)\n",
    "plt.tight_layout()\n",
    "plt.xlabel(\"Predicted\")\n",
    "plt.ylabel(\"True\")\n",
    "plt.show()"
   ]
  }
 ],
 "metadata": {
  "kernelspec": {
   "display_name": "Python 3",
   "language": "python",
   "name": "python3"
  },
  "language_info": {
   "codemirror_mode": {
    "name": "ipython",
    "version": 3
   },
   "file_extension": ".py",
   "mimetype": "text/x-python",
   "name": "python",
   "nbconvert_exporter": "python",
   "pygments_lexer": "ipython3",
   "version": "3.10.0"
  }
 },
 "nbformat": 4,
 "nbformat_minor": 5
}
